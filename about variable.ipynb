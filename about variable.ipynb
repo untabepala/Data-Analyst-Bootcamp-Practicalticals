{
 "cells": [
  {
   "cell_type": "code",
   "execution_count": 1,
   "id": "1fc338c3",
   "metadata": {},
   "outputs": [
    {
     "name": "stdout",
     "output_type": "stream",
     "text": [
      "x\n"
     ]
    }
   ],
   "source": [
    "x=3\n",
    "print('x')"
   ]
  },
  {
   "cell_type": "code",
   "execution_count": 2,
   "id": "37c131bd",
   "metadata": {},
   "outputs": [
    {
     "name": "stdout",
     "output_type": "stream",
     "text": [
      "22\n"
     ]
    }
   ],
   "source": [
    "x=22\n",
    "print(x)"
   ]
  },
  {
   "cell_type": "markdown",
   "id": "f7ee2555",
   "metadata": {},
   "source": [
    "#Variables\n"
   ]
  },
  {
   "cell_type": "code",
   "execution_count": 3,
   "id": "74af1ec6",
   "metadata": {},
   "outputs": [
    {
     "name": "stdout",
     "output_type": "stream",
     "text": [
      "choclate\n"
     ]
    }
   ],
   "source": [
    "y='choclate'\n",
    "print(y)"
   ]
  },
  {
   "cell_type": "code",
   "execution_count": 4,
   "id": "2a4dafc6",
   "metadata": {},
   "outputs": [
    {
     "data": {
      "text/plain": [
       "str"
      ]
     },
     "execution_count": 4,
     "metadata": {},
     "output_type": "execute_result"
    }
   ],
   "source": [
    "type(y)"
   ]
  },
  {
   "cell_type": "code",
   "execution_count": 5,
   "id": "971642be",
   "metadata": {},
   "outputs": [
    {
     "name": "stdout",
     "output_type": "stream",
     "text": [
      "choclet\n"
     ]
    }
   ],
   "source": [
    "y='choc'\n",
    "y='choclet'\n",
    "print(y)"
   ]
  },
  {
   "cell_type": "code",
   "execution_count": 7,
   "id": "befc1747",
   "metadata": {},
   "outputs": [
    {
     "name": "stdout",
     "output_type": "stream",
     "text": [
      "choclate\n",
      "vanilla\n",
      "fruit\n"
     ]
    }
   ],
   "source": [
    "x,y,z='choclate','vanilla','fruit'\n",
    "print(x)\n",
    "print(y)\n",
    "print(z)"
   ]
  },
  {
   "cell_type": "code",
   "execution_count": 8,
   "id": "5a1cbc73",
   "metadata": {},
   "outputs": [
    {
     "name": "stdout",
     "output_type": "stream",
     "text": [
      "root\n",
      "root\n",
      "root\n"
     ]
    }
   ],
   "source": [
    "x=y=z='root'\n",
    "print(x)\n",
    "print(y)\n",
    "print(z)"
   ]
  },
  {
   "cell_type": "code",
   "execution_count": 9,
   "id": "c18b75e6",
   "metadata": {},
   "outputs": [
    {
     "name": "stdout",
     "output_type": "stream",
     "text": [
      "choclate\n",
      "vanilla\n",
      "fruit\n"
     ]
    }
   ],
   "source": [
    "ice_cream=['choclate','vanilla','fruit']\n",
    "x,y,z=ice_cream\n",
    "print(x)\n",
    "print(y)\n",
    "print(z)"
   ]
  },
  {
   "cell_type": "code",
   "execution_count": null,
   "id": "0ff56079",
   "metadata": {},
   "outputs": [],
   "source": [
    "#camel case\n",
    "testVariableCase='vanilla'"
   ]
  },
  {
   "cell_type": "code",
   "execution_count": null,
   "id": "ab0da260",
   "metadata": {},
   "outputs": [],
   "source": [
    "#pascal case\n",
    "TestVariableCase='vanilla'"
   ]
  },
  {
   "cell_type": "code",
   "execution_count": null,
   "id": "768f560f",
   "metadata": {},
   "outputs": [],
   "source": [
    "#snake case\n",
    "test_variable_case='vanilla'"
   ]
  },
  {
   "cell_type": "code",
   "execution_count": 13,
   "id": "0bc80c48",
   "metadata": {},
   "outputs": [],
   "source": [
    "test='vani'"
   ]
  },
  {
   "cell_type": "code",
   "execution_count": 15,
   "id": "665b428e",
   "metadata": {},
   "outputs": [
    {
     "name": "stdout",
     "output_type": "stream",
     "text": [
      "8\n"
     ]
    }
   ],
   "source": [
    "x=3+5\n",
    "print(x)"
   ]
  },
  {
   "cell_type": "code",
   "execution_count": 17,
   "id": "49243811",
   "metadata": {},
   "outputs": [
    {
     "name": "stdout",
     "output_type": "stream",
     "text": [
      " vanilla  ice  cream \n"
     ]
    }
   ],
   "source": [
    "y=' ice '+' cream '\n",
    "z=' vanilla '\n",
    "print(z+y)"
   ]
  },
  {
   "cell_type": "code",
   "execution_count": null,
   "id": "20e48b62",
   "metadata": {},
   "outputs": [],
   "source": []
  }
 ],
 "metadata": {
  "kernelspec": {
   "display_name": "Python 3 (ipykernel)",
   "language": "python",
   "name": "python3"
  },
  "language_info": {
   "codemirror_mode": {
    "name": "ipython",
    "version": 3
   },
   "file_extension": ".py",
   "mimetype": "text/x-python",
   "name": "python",
   "nbconvert_exporter": "python",
   "pygments_lexer": "ipython3",
   "version": "3.11.5"
  }
 },
 "nbformat": 4,
 "nbformat_minor": 5
}
