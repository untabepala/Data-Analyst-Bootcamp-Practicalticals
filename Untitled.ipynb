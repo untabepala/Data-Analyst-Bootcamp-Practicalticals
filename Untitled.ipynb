{
 "cells": [
  {
   "cell_type": "code",
   "execution_count": 1,
   "id": "14b725ff",
   "metadata": {},
   "outputs": [],
   "source": [
    "#Zipf distributions are used to sample data based on zipf's law.\n",
    "\n",
    "#Zipf's Law: In a collection, the nth common term is 1/n times of the \n",
    "#most common term. E.g. the 5th most common word in English occurs \n",
    "#nearly 1/5 times as often as the most common word.\n",
    "\n",
    "#It has two parameters:\n",
    "\n",
    "#a - distribution parameter.\n",
    "\n",
    "#size - The shape of the returned array."
   ]
  },
  {
   "cell_type": "code",
   "execution_count": 2,
   "id": "b5d6a572",
   "metadata": {},
   "outputs": [
    {
     "name": "stdout",
     "output_type": "stream",
     "text": [
      "[[ 2  9 39]\n",
      " [ 1  1  2]]\n"
     ]
    }
   ],
   "source": [
    "from numpy import random\n",
    "x=random.zipf(a=2,size=(2,3))\n",
    "print(x)"
   ]
  },
  {
   "cell_type": "markdown",
   "id": "ac773526",
   "metadata": {},
   "source": [
    "# Visualization of Zipf Distribution"
   ]
  },
  {
   "cell_type": "code",
   "execution_count": 3,
   "id": "7a5c126c",
   "metadata": {},
   "outputs": [
    {
     "name": "stderr",
     "output_type": "stream",
     "text": [
      "C:\\Users\\Nayani Tharushika\\AppData\\Local\\Temp\\ipykernel_6852\\1953306353.py:5: UserWarning: \n",
      "\n",
      "`distplot` is a deprecated function and will be removed in seaborn v0.14.0.\n",
      "\n",
      "Please adapt your code to use either `displot` (a figure-level function with\n",
      "similar flexibility) or `histplot` (an axes-level function for histograms).\n",
      "\n",
      "For a guide to updating your code to use the new functions, please see\n",
      "https://gist.github.com/mwaskom/de44147ed2974457ad6372750bbe5751\n",
      "\n",
      "  sns.distplot(x[x<10],kde=False)\n"
     ]
    },
    {
     "data": {
      "image/png": "[encoded data removed]",
      "text/plain": [
       "<Figure size 640x480 with 1 Axes>"
      ]
     },
     "metadata": {},
     "output_type": "display_data"
    }
   ],
   "source": [
    "from numpy import random\n",
    "import matplotlib.pyplot as plt\n",
    "import seaborn as sns\n",
    "x=random.zipf(a=2,size=1000)\n",
    "sns.distplot(x[x<10],kde=False)\n",
    "plt.show()"
   ]
  },
  {
   "cell_type": "code",
   "execution_count": null,
   "id": "56fbccec",
   "metadata": {},
   "outputs": [],
   "source": []
  },
  {
   "cell_type": "code",
   "execution_count": null,
   "id": "790f6ce6",
   "metadata": {},
   "outputs": [],
   "source": []
  }
 ],
 "metadata": {
  "kernelspec": {
   "display_name": "Python 3 (ipykernel)",
   "language": "python",
   "name": "python3"
  },
  "language_info": {
   "codemirror_mode": {
    "name": "ipython",
    "version": 3
   },
   "file_extension": ".py",
   "mimetype": "text/x-python",
   "name": "python",
   "nbconvert_exporter": "python",
   "pygments_lexer": "ipython3",
   "version": "3.11.5"
  }
 },
 "nbformat": 4,
 "nbformat_minor": 5
}
