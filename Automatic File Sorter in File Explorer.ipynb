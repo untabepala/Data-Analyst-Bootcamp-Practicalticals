{
 "cells": [
  {
   "cell_type": "markdown",
   "id": "334ab1a7",
   "metadata": {},
   "source": [
    "# Automatic File Sorter in File Explorer\n"
   ]
  },
  {
   "cell_type": "code",
   "execution_count": 6,
   "id": "b583380f",
   "metadata": {},
   "outputs": [],
   "source": [
    "import os, shutil"
   ]
  },
  {
   "cell_type": "code",
   "execution_count": 7,
   "id": "444514d9",
   "metadata": {},
   "outputs": [],
   "source": [
    "path=r\"C:/Users/Nayani Tharushika/PycharmProjects/\""
   ]
  },
  {
   "cell_type": "code",
   "execution_count": 8,
   "id": "677e40a7",
   "metadata": {},
   "outputs": [],
   "source": [
    "file_name = os.listdir(path)"
   ]
  },
  {
   "cell_type": "code",
   "execution_count": 10,
   "id": "79ab4ac4",
   "metadata": {},
   "outputs": [],
   "source": [
    "folderNames=['csv files','image files','text files']\n",
    "\n",
    "for loop in range(0,3):\n",
    "    if not os.path.exists(path+folderNames[loop]):\n",
    "        print(path + folderNames[loop])\n",
    "        os.makedirs(path + folderNames[loop])"
   ]
  },
  {
   "cell_type": "code",
   "execution_count": 12,
   "id": "348fe48c",
   "metadata": {},
   "outputs": [],
   "source": [
    "for file in file_name:\n",
    "    if \".jpeg\" in file and not os.path.exists(path +\"image files/\" +file):\n",
    "        shutil.move(path + file,path +\"image files/\" +file)"
   ]
  },
  {
   "cell_type": "code",
   "execution_count": null,
   "id": "ae464df3",
   "metadata": {},
   "outputs": [],
   "source": []
  },
  {
   "cell_type": "code",
   "execution_count": null,
   "id": "e9ac1a7d",
   "metadata": {},
   "outputs": [],
   "source": []
  },
  {
   "cell_type": "code",
   "execution_count": null,
   "id": "da427ec4",
   "metadata": {},
   "outputs": [],
   "source": []
  },
  {
   "cell_type": "code",
   "execution_count": null,
   "id": "d69210da",
   "metadata": {},
   "outputs": [],
   "source": []
  },
  {
   "cell_type": "code",
   "execution_count": null,
   "id": "bb4ddd8a",
   "metadata": {},
   "outputs": [],
   "source": []
  }
 ],
 "metadata": {
  "kernelspec": {
   "display_name": "Python 3 (ipykernel)",
   "language": "python",
   "name": "python3"
  },
  "language_info": {
   "codemirror_mode": {
    "name": "ipython",
    "version": 3
   },
   "file_extension": ".py",
   "mimetype": "text/x-python",
   "name": "python",
   "nbconvert_exporter": "python",
   "pygments_lexer": "ipython3",
   "version": "3.11.5"
  }
 },
 "nbformat": 4,
 "nbformat_minor": 5
}
