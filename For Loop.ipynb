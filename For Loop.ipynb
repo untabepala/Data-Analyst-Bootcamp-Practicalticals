{
 "cells": [
  {
   "cell_type": "code",
   "execution_count": 5,
   "id": "19517510",
   "metadata": {},
   "outputs": [],
   "source": [
    "integers = [1,2,3,4,5]"
   ]
  },
  {
   "cell_type": "code",
   "execution_count": 8,
   "id": "defe4d75",
   "metadata": {},
   "outputs": [
    {
     "name": "stdout",
     "output_type": "stream",
     "text": [
      "1\n",
      "2\n",
      "3\n",
      "4\n",
      "5\n"
     ]
    }
   ],
   "source": [
    "for numbers in integers:\n",
    "    print(numbers)"
   ]
  },
  {
   "cell_type": "code",
   "execution_count": 9,
   "id": "aa19df22",
   "metadata": {},
   "outputs": [
    {
     "name": "stdout",
     "output_type": "stream",
     "text": [
      "yep\n",
      "yep\n",
      "yep\n",
      "yep\n",
      "yep\n"
     ]
    }
   ],
   "source": [
    "for numbers in integers:\n",
    "    print('yep')"
   ]
  },
  {
   "cell_type": "code",
   "execution_count": 10,
   "id": "10da77d3",
   "metadata": {},
   "outputs": [
    {
     "name": "stdout",
     "output_type": "stream",
     "text": [
      "2\n",
      "4\n",
      "6\n",
      "8\n",
      "10\n"
     ]
    }
   ],
   "source": [
    "for numbers in integers:\n",
    "    print(numbers+numbers)"
   ]
  },
  {
   "cell_type": "code",
   "execution_count": 13,
   "id": "c6986c8a",
   "metadata": {},
   "outputs": [],
   "source": [
    "icecreamDic={'name':'alex','intake':5,'flavors':['MCC','CHOCO']}"
   ]
  },
  {
   "cell_type": "code",
   "execution_count": 14,
   "id": "937e9917",
   "metadata": {},
   "outputs": [
    {
     "name": "stdout",
     "output_type": "stream",
     "text": [
      "alex\n",
      "5\n",
      "['MCC', 'CHOCO']\n"
     ]
    }
   ],
   "source": [
    "for c in icecreamDic.values():\n",
    "    print(c)"
   ]
  },
  {
   "cell_type": "code",
   "execution_count": 15,
   "id": "3e222366",
   "metadata": {},
   "outputs": [
    {
     "name": "stdout",
     "output_type": "stream",
     "text": [
      "name -> alex\n",
      "intake -> 5\n",
      "flavors -> ['MCC', 'CHOCO']\n"
     ]
    }
   ],
   "source": [
    "for key, value in icecreamDic.items():\n",
    "    print(key, '->', value)"
   ]
  },
  {
   "cell_type": "markdown",
   "id": "b71ea961",
   "metadata": {},
   "source": [
    "# Nested For Loop"
   ]
  },
  {
   "cell_type": "code",
   "execution_count": 17,
   "id": "36763ae1",
   "metadata": {},
   "outputs": [],
   "source": [
    "flavors=['vanilla','chocolate','cookie']\n",
    "toppings=['hot','oreos','marsh']"
   ]
  },
  {
   "cell_type": "code",
   "execution_count": 18,
   "id": "b850e7d8",
   "metadata": {},
   "outputs": [
    {
     "name": "stdout",
     "output_type": "stream",
     "text": [
      "vanilla  topped with  hot\n",
      "vanilla  topped with  oreos\n",
      "vanilla  topped with  marsh\n",
      "chocolate  topped with  hot\n",
      "chocolate  topped with  oreos\n",
      "chocolate  topped with  marsh\n",
      "cookie  topped with  hot\n",
      "cookie  topped with  oreos\n",
      "cookie  topped with  marsh\n"
     ]
    }
   ],
   "source": [
    "for one in flavors:\n",
    "    for two in toppings:\n",
    "        print(one,' topped with ',two)"
   ]
  },
  {
   "cell_type": "code",
   "execution_count": null,
   "id": "de7080fc",
   "metadata": {},
   "outputs": [],
   "source": []
  },
  {
   "cell_type": "code",
   "execution_count": null,
   "id": "61451ff2",
   "metadata": {},
   "outputs": [],
   "source": []
  }
 ],
 "metadata": {
  "kernelspec": {
   "display_name": "Python 3 (ipykernel)",
   "language": "python",
   "name": "python3"
  },
  "language_info": {
   "codemirror_mode": {
    "name": "ipython",
    "version": 3
   },
   "file_extension": ".py",
   "mimetype": "text/x-python",
   "name": "python",
   "nbconvert_exporter": "python",
   "pygments_lexer": "ipython3",
   "version": "3.11.5"
  }
 },
 "nbformat": 4,
 "nbformat_minor": 5
}
