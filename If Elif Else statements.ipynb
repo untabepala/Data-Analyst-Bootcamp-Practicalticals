{
 "cells": [
  {
   "cell_type": "code",
   "execution_count": 1,
   "id": "27c0fbd9",
   "metadata": {},
   "outputs": [
    {
     "name": "stdout",
     "output_type": "stream",
     "text": [
      "ok\n"
     ]
    }
   ],
   "source": [
    "if 25>10:\n",
    "    print('ok')"
   ]
  },
  {
   "cell_type": "code",
   "execution_count": 2,
   "id": "3fd13fc1",
   "metadata": {},
   "outputs": [],
   "source": [
    "if 25<10:\n",
    "    print('ok')"
   ]
  },
  {
   "cell_type": "code",
   "execution_count": 7,
   "id": "d96cfa4a",
   "metadata": {},
   "outputs": [
    {
     "name": "stdout",
     "output_type": "stream",
     "text": [
      "not ok\n"
     ]
    }
   ],
   "source": [
    "if 25<10:\n",
    "    print('ok')\n",
    "else:\n",
    "    print('not ok')"
   ]
  },
  {
   "cell_type": "code",
   "execution_count": 9,
   "id": "aab9cc5a",
   "metadata": {},
   "outputs": [
    {
     "name": "stdout",
     "output_type": "stream",
     "text": [
      "25 low than 30\n"
     ]
    }
   ],
   "source": [
    "if 25<10:\n",
    "    print('ok')\n",
    "elif 25<20:\n",
    "    print('25 low than 20')\n",
    "elif 25<30:\n",
    "    print('25 low than 30')\n",
    "elif 25<40:\n",
    "    print('25 low than 40')\n",
    "elif 25<50:\n",
    "    print('25 low than 50')\n",
    "else:\n",
    "    print('not ok')"
   ]
  },
  {
   "cell_type": "code",
   "execution_count": 10,
   "id": "e4f0a41d",
   "metadata": {},
   "outputs": [
    {
     "name": "stdout",
     "output_type": "stream",
     "text": [
      "not worked\n"
     ]
    }
   ],
   "source": [
    "print('worked')if 10>30 else print('not worked')"
   ]
  },
  {
   "cell_type": "code",
   "execution_count": 11,
   "id": "bda805e3",
   "metadata": {},
   "outputs": [
    {
     "name": "stdout",
     "output_type": "stream",
     "text": [
      "50 greater than 10\n",
      "50 greater than 30\n"
     ]
    }
   ],
   "source": [
    "if 50>10:\n",
    "    print('50 greater than 10')\n",
    "    if 50>30:\n",
    "        print('50 greater than 30')\n",
    "    else:\n",
    "        print('50 lower than 30')\n",
    "\n",
    "else:\n",
    "    print('50 lower than 10')"
   ]
  },
  {
   "cell_type": "code",
   "execution_count": null,
   "id": "8b11a553",
   "metadata": {},
   "outputs": [],
   "source": []
  }
 ],
 "metadata": {
  "kernelspec": {
   "display_name": "Python 3 (ipykernel)",
   "language": "python",
   "name": "python3"
  },
  "language_info": {
   "codemirror_mode": {
    "name": "ipython",
    "version": 3
   },
   "file_extension": ".py",
   "mimetype": "text/x-python",
   "name": "python",
   "nbconvert_exporter": "python",
   "pygments_lexer": "ipython3",
   "version": "3.11.5"
  }
 },
 "nbformat": 4,
 "nbformat_minor": 5
}
