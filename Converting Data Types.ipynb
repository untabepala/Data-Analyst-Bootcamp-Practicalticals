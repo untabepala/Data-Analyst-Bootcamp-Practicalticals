{
 "cells": [
  {
   "cell_type": "markdown",
   "id": "374ee518",
   "metadata": {},
   "source": [
    "# Converting Data Types"
   ]
  },
  {
   "cell_type": "code",
   "execution_count": 1,
   "id": "b396a1c2",
   "metadata": {},
   "outputs": [
    {
     "data": {
      "text/plain": [
       "int"
      ]
     },
     "execution_count": 1,
     "metadata": {},
     "output_type": "execute_result"
    }
   ],
   "source": [
    "num=7\n",
    "type(num)"
   ]
  },
  {
   "cell_type": "code",
   "execution_count": 2,
   "id": "93d94789",
   "metadata": {},
   "outputs": [
    {
     "data": {
      "text/plain": [
       "str"
      ]
     },
     "execution_count": 2,
     "metadata": {},
     "output_type": "execute_result"
    }
   ],
   "source": [
    "numStr='7'\n",
    "type(numStr)"
   ]
  },
  {
   "cell_type": "code",
   "execution_count": 4,
   "id": "9f5c4d2a",
   "metadata": {},
   "outputs": [
    {
     "data": {
      "text/plain": [
       "int"
      ]
     },
     "execution_count": 4,
     "metadata": {},
     "output_type": "execute_result"
    }
   ],
   "source": [
    "numStr_conv=int(numStr) #string to int\n",
    "type(numStr_conv)"
   ]
  },
  {
   "cell_type": "code",
   "execution_count": 8,
   "id": "7556c662",
   "metadata": {},
   "outputs": [
    {
     "name": "stdout",
     "output_type": "stream",
     "text": [
      "14\n"
     ]
    }
   ],
   "source": [
    "sumSum=num+numStr_conv\n",
    "print(sumSum)"
   ]
  },
  {
   "cell_type": "code",
   "execution_count": 9,
   "id": "6b6e479b",
   "metadata": {},
   "outputs": [
    {
     "data": {
      "text/plain": [
       "int"
      ]
     },
     "execution_count": 9,
     "metadata": {},
     "output_type": "execute_result"
    }
   ],
   "source": [
    "type(sumSum)"
   ]
  },
  {
   "cell_type": "code",
   "execution_count": 10,
   "id": "8038b71d",
   "metadata": {},
   "outputs": [
    {
     "data": {
      "text/plain": [
       "list"
      ]
     },
     "execution_count": 10,
     "metadata": {},
     "output_type": "execute_result"
    }
   ],
   "source": [
    "list=[1,2,3,4]\n",
    "type(list)"
   ]
  },
  {
   "cell_type": "code",
   "execution_count": 11,
   "id": "af4e4675",
   "metadata": {},
   "outputs": [
    {
     "data": {
      "text/plain": [
       "(1, 2, 3, 4)"
      ]
     },
     "execution_count": 11,
     "metadata": {},
     "output_type": "execute_result"
    }
   ],
   "source": [
    "tuple(list) #list to tuple"
   ]
  },
  {
   "cell_type": "code",
   "execution_count": 12,
   "id": "3cb7e58e",
   "metadata": {},
   "outputs": [
    {
     "data": {
      "text/plain": [
       "tuple"
      ]
     },
     "execution_count": 12,
     "metadata": {},
     "output_type": "execute_result"
    }
   ],
   "source": [
    "type(tuple(list))"
   ]
  },
  {
   "cell_type": "code",
   "execution_count": 16,
   "id": "5ebd405d",
   "metadata": {},
   "outputs": [],
   "source": [
    "list=[1,2,3,3,2,1,4,3,1,2,3,1]"
   ]
  },
  {
   "cell_type": "code",
   "execution_count": 13,
   "id": "646644ad",
   "metadata": {},
   "outputs": [
    {
     "data": {
      "text/plain": [
       "{1, 2, 3, 4}"
      ]
     },
     "execution_count": 13,
     "metadata": {},
     "output_type": "execute_result"
    }
   ],
   "source": [
    "set(list) #list to set"
   ]
  },
  {
   "cell_type": "code",
   "execution_count": 17,
   "id": "0a5e2032",
   "metadata": {},
   "outputs": [
    {
     "data": {
      "text/plain": [
       "set"
      ]
     },
     "execution_count": 17,
     "metadata": {},
     "output_type": "execute_result"
    }
   ],
   "source": [
    "type(set(list))"
   ]
  },
  {
   "cell_type": "code",
   "execution_count": 18,
   "id": "ba4da60d",
   "metadata": {},
   "outputs": [
    {
     "data": {
      "text/plain": [
       "dict"
      ]
     },
     "execution_count": 18,
     "metadata": {},
     "output_type": "execute_result"
    }
   ],
   "source": [
    "dicType={'name':'Alex','age':28,'hair':'n/a'}\n",
    "type(dicType)"
   ]
  },
  {
   "cell_type": "code",
   "execution_count": 19,
   "id": "85bbe786",
   "metadata": {},
   "outputs": [
    {
     "data": {
      "text/plain": [
       "dict_items([('name', 'Alex'), ('age', 28), ('hair', 'n/a')])"
      ]
     },
     "execution_count": 19,
     "metadata": {},
     "output_type": "execute_result"
    }
   ],
   "source": [
    "dicType.items() # dic to items"
   ]
  },
  {
   "cell_type": "code",
   "execution_count": 20,
   "id": "71b70b2b",
   "metadata": {},
   "outputs": [
    {
     "data": {
      "text/plain": [
       "dict_items"
      ]
     },
     "execution_count": 20,
     "metadata": {},
     "output_type": "execute_result"
    }
   ],
   "source": [
    "type(dicType.items())"
   ]
  },
  {
   "cell_type": "code",
   "execution_count": 21,
   "id": "7179084a",
   "metadata": {},
   "outputs": [
    {
     "data": {
      "text/plain": [
       "dict_values(['Alex', 28, 'n/a'])"
      ]
     },
     "execution_count": 21,
     "metadata": {},
     "output_type": "execute_result"
    }
   ],
   "source": [
    "dicType.values()  #dic to values"
   ]
  },
  {
   "cell_type": "code",
   "execution_count": 22,
   "id": "8c11f2ed",
   "metadata": {},
   "outputs": [
    {
     "data": {
      "text/plain": [
       "dict_values"
      ]
     },
     "execution_count": 22,
     "metadata": {},
     "output_type": "execute_result"
    }
   ],
   "source": [
    "type(dicType.values())"
   ]
  },
  {
   "cell_type": "code",
   "execution_count": 23,
   "id": "ae824891",
   "metadata": {},
   "outputs": [
    {
     "data": {
      "text/plain": [
       "dict_keys(['name', 'age', 'hair'])"
      ]
     },
     "execution_count": 23,
     "metadata": {},
     "output_type": "execute_result"
    }
   ],
   "source": [
    "dicType.keys() #dic to keys"
   ]
  },
  {
   "cell_type": "code",
   "execution_count": 2,
   "id": "22d6caa0",
   "metadata": {},
   "outputs": [
    {
     "data": {
      "text/plain": [
       "{' ', 'I', 'Y', 'e', 'l', 'o', 'u', 'v'}"
      ]
     },
     "execution_count": 2,
     "metadata": {},
     "output_type": "execute_result"
    }
   ],
   "source": [
    "longString=\"I love You\"\n",
    "set(longString)"
   ]
  },
  {
   "cell_type": "code",
   "execution_count": 3,
   "id": "2e9ee876",
   "metadata": {},
   "outputs": [
    {
     "data": {
      "text/plain": [
       "['I', ' ', 'l', 'o', 'v', 'e', ' ', 'Y', 'o', 'u']"
      ]
     },
     "execution_count": 3,
     "metadata": {},
     "output_type": "execute_result"
    }
   ],
   "source": [
    "list(longString)"
   ]
  },
  {
   "cell_type": "code",
   "execution_count": null,
   "id": "ab9c7faf",
   "metadata": {},
   "outputs": [],
   "source": []
  }
 ],
 "metadata": {
  "kernelspec": {
   "display_name": "Python 3 (ipykernel)",
   "language": "python",
   "name": "python3"
  },
  "language_info": {
   "codemirror_mode": {
    "name": "ipython",
    "version": 3
   },
   "file_extension": ".py",
   "mimetype": "text/x-python",
   "name": "python",
   "nbconvert_exporter": "python",
   "pygments_lexer": "ipython3",
   "version": "3.11.5"
  }
 },
 "nbformat": 4,
 "nbformat_minor": 5
}
