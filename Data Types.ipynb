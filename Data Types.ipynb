{
 "cells": [
  {
   "cell_type": "code",
   "execution_count": 1,
   "id": "0d2d690f",
   "metadata": {},
   "outputs": [
    {
     "data": {
      "text/plain": [
       "int"
      ]
     },
     "execution_count": 1,
     "metadata": {},
     "output_type": "execute_result"
    }
   ],
   "source": [
    "type(12)"
   ]
  },
  {
   "cell_type": "code",
   "execution_count": 2,
   "id": "4ae42bef",
   "metadata": {},
   "outputs": [
    {
     "data": {
      "text/plain": [
       "float"
      ]
     },
     "execution_count": 2,
     "metadata": {},
     "output_type": "execute_result"
    }
   ],
   "source": [
    "type(12+1.05)"
   ]
  },
  {
   "cell_type": "code",
   "execution_count": 4,
   "id": "474804cc",
   "metadata": {},
   "outputs": [
    {
     "data": {
      "text/plain": [
       "complex"
      ]
     },
     "execution_count": 4,
     "metadata": {},
     "output_type": "execute_result"
    }
   ],
   "source": [
    "type(12+3j)"
   ]
  },
  {
   "cell_type": "code",
   "execution_count": 5,
   "id": "b8e38d50",
   "metadata": {},
   "outputs": [
    {
     "data": {
      "text/plain": [
       "bool"
      ]
     },
     "execution_count": 5,
     "metadata": {},
     "output_type": "execute_result"
    }
   ],
   "source": [
    "type(1<5)"
   ]
  },
  {
   "cell_type": "code",
   "execution_count": 6,
   "id": "3cd7899d",
   "metadata": {},
   "outputs": [
    {
     "data": {
      "text/plain": [
       "True"
      ]
     },
     "execution_count": 6,
     "metadata": {},
     "output_type": "execute_result"
    }
   ],
   "source": [
    "1<5"
   ]
  },
  {
   "cell_type": "code",
   "execution_count": 7,
   "id": "d6475336",
   "metadata": {},
   "outputs": [
    {
     "data": {
      "text/plain": [
       "'single'"
      ]
     },
     "execution_count": 7,
     "metadata": {},
     "output_type": "execute_result"
    }
   ],
   "source": [
    "'single'"
   ]
  },
  {
   "cell_type": "code",
   "execution_count": 8,
   "id": "86c39495",
   "metadata": {},
   "outputs": [
    {
     "data": {
      "text/plain": [
       "'double'"
      ]
     },
     "execution_count": 8,
     "metadata": {},
     "output_type": "execute_result"
    }
   ],
   "source": [
    "\"double\""
   ]
  },
  {
   "cell_type": "code",
   "execution_count": 12,
   "id": "7450e012",
   "metadata": {},
   "outputs": [],
   "source": [
    "multiline=\"\"\"\n",
    "aaaa sss\n",
    "fffff hk\n",
    "ggg hhh jjj\n",
    "\"\"\""
   ]
  },
  {
   "cell_type": "code",
   "execution_count": 13,
   "id": "d734c440",
   "metadata": {},
   "outputs": [
    {
     "name": "stdout",
     "output_type": "stream",
     "text": [
      "\n",
      "aaaa sss\n",
      "fffff hk\n",
      "ggg hhh jjj\n",
      "\n"
     ]
    }
   ],
   "source": [
    "print(multiline)"
   ]
  },
  {
   "cell_type": "code",
   "execution_count": 14,
   "id": "d15e6df0",
   "metadata": {},
   "outputs": [],
   "source": [
    "a='hello world!'"
   ]
  },
  {
   "cell_type": "code",
   "execution_count": 16,
   "id": "4e3821d7",
   "metadata": {},
   "outputs": [
    {
     "name": "stdout",
     "output_type": "stream",
     "text": [
      "el\n"
     ]
    }
   ],
   "source": [
    "print(a[1:3])"
   ]
  },
  {
   "cell_type": "code",
   "execution_count": 17,
   "id": "9103c2c9",
   "metadata": {},
   "outputs": [
    {
     "name": "stdout",
     "output_type": "stream",
     "text": [
      "!\n"
     ]
    }
   ],
   "source": [
    "print(a[-1])"
   ]
  },
  {
   "cell_type": "code",
   "execution_count": 18,
   "id": "f95090d5",
   "metadata": {},
   "outputs": [
    {
     "name": "stdout",
     "output_type": "stream",
     "text": [
      "w\n"
     ]
    }
   ],
   "source": [
    "print(a[6])"
   ]
  },
  {
   "cell_type": "code",
   "execution_count": 19,
   "id": "67545c8e",
   "metadata": {},
   "outputs": [
    {
     "data": {
      "text/plain": [
       "'hello world!hello world!hello world!'"
      ]
     },
     "execution_count": 19,
     "metadata": {},
     "output_type": "execute_result"
    }
   ],
   "source": [
    "a*3"
   ]
  },
  {
   "cell_type": "code",
   "execution_count": 20,
   "id": "6952666e",
   "metadata": {},
   "outputs": [
    {
     "data": {
      "text/plain": [
       "[1, 2, 3]"
      ]
     },
     "execution_count": 20,
     "metadata": {},
     "output_type": "execute_result"
    }
   ],
   "source": [
    "#list\n",
    "[1,2,3]"
   ]
  },
  {
   "cell_type": "code",
   "execution_count": 21,
   "id": "ae2d454c",
   "metadata": {},
   "outputs": [
    {
     "data": {
      "text/plain": [
       "['cook', 'learn', 'study']"
      ]
     },
     "execution_count": 21,
     "metadata": {},
     "output_type": "execute_result"
    }
   ],
   "source": [
    "['cook','learn','study']"
   ]
  },
  {
   "cell_type": "code",
   "execution_count": 22,
   "id": "4cacb218",
   "metadata": {},
   "outputs": [
    {
     "data": {
      "text/plain": [
       "['A', 3, 'bomb', 'ball', True]"
      ]
     },
     "execution_count": 22,
     "metadata": {},
     "output_type": "execute_result"
    }
   ],
   "source": [
    "['A',3,'bomb','ball',True]"
   ]
  },
  {
   "cell_type": "code",
   "execution_count": 23,
   "id": "3347c350",
   "metadata": {},
   "outputs": [
    {
     "data": {
      "text/plain": [
       "['A', 3, ['bomb', 'ball'], True]"
      ]
     },
     "execution_count": 23,
     "metadata": {},
     "output_type": "execute_result"
    }
   ],
   "source": [
    "['A',3,['bomb','ball'],True]"
   ]
  },
  {
   "cell_type": "code",
   "execution_count": 25,
   "id": "07f8181e",
   "metadata": {},
   "outputs": [
    {
     "data": {
      "text/plain": [
       "['cook', 'learn', 'study', 'cooking']"
      ]
     },
     "execution_count": 25,
     "metadata": {},
     "output_type": "execute_result"
    }
   ],
   "source": [
    "ice_cream=['cook','learn','study']\n",
    "ice_cream.append('cooking')\n",
    "ice_cream"
   ]
  },
  {
   "cell_type": "code",
   "execution_count": 28,
   "id": "a70f96a9",
   "metadata": {},
   "outputs": [
    {
     "data": {
      "text/plain": [
       "['butter', 'learn', 'study', 'cooking']"
      ]
     },
     "execution_count": 28,
     "metadata": {},
     "output_type": "execute_result"
    }
   ],
   "source": [
    "ice_cream[0]='butter'\n",
    "ice_cream"
   ]
  },
  {
   "cell_type": "code",
   "execution_count": 32,
   "id": "27dbca3b",
   "metadata": {},
   "outputs": [],
   "source": [
    "nestList=['A',3,['bomb','ball'],True]"
   ]
  },
  {
   "cell_type": "code",
   "execution_count": 33,
   "id": "382ebb13",
   "metadata": {},
   "outputs": [
    {
     "data": {
      "text/plain": [
       "'A'"
      ]
     },
     "execution_count": 33,
     "metadata": {},
     "output_type": "execute_result"
    }
   ],
   "source": [
    "nestList[0]"
   ]
  },
  {
   "cell_type": "code",
   "execution_count": 34,
   "id": "089a8cbe",
   "metadata": {},
   "outputs": [
    {
     "data": {
      "text/plain": [
       "['bomb', 'ball']"
      ]
     },
     "execution_count": 34,
     "metadata": {},
     "output_type": "execute_result"
    }
   ],
   "source": [
    "nestList[2]"
   ]
  },
  {
   "cell_type": "code",
   "execution_count": 35,
   "id": "e3b7d612",
   "metadata": {},
   "outputs": [
    {
     "data": {
      "text/plain": [
       "'ball'"
      ]
     },
     "execution_count": 35,
     "metadata": {},
     "output_type": "execute_result"
    }
   ],
   "source": [
    "nestList[2][1]"
   ]
  },
  {
   "cell_type": "code",
   "execution_count": 36,
   "id": "a598addd",
   "metadata": {},
   "outputs": [],
   "source": [
    "tuple_scope=(1,2,3,2,1)"
   ]
  },
  {
   "cell_type": "code",
   "execution_count": 37,
   "id": "4451e0e5",
   "metadata": {},
   "outputs": [
    {
     "data": {
      "text/plain": [
       "tuple"
      ]
     },
     "execution_count": 37,
     "metadata": {},
     "output_type": "execute_result"
    }
   ],
   "source": [
    "type(tuple_scope)"
   ]
  },
  {
   "cell_type": "code",
   "execution_count": 38,
   "id": "d2568f1a",
   "metadata": {},
   "outputs": [
    {
     "data": {
      "text/plain": [
       "1"
      ]
     },
     "execution_count": 38,
     "metadata": {},
     "output_type": "execute_result"
    }
   ],
   "source": [
    "tuple_scope[0]"
   ]
  },
  {
   "cell_type": "code",
   "execution_count": 39,
   "id": "91457359",
   "metadata": {},
   "outputs": [
    {
     "name": "stdout",
     "output_type": "stream",
     "text": [
      "(1, 2, 3, 2, 1)\n"
     ]
    }
   ],
   "source": [
    "print(tuple_scope)"
   ]
  },
  {
   "cell_type": "code",
   "execution_count": 8,
   "id": "df4108d1",
   "metadata": {},
   "outputs": [
    {
     "name": "stdout",
     "output_type": "stream",
     "text": [
      "{1, 2, 3, 4, 5, 8, 11}\n"
     ]
    }
   ],
   "source": [
    "pints={1,2,3,11,5,4,1,1,2,8,8}\n",
    "print(pints)"
   ]
  },
  {
   "cell_type": "code",
   "execution_count": 6,
   "id": "f6758205",
   "metadata": {},
   "outputs": [
    {
     "name": "stdout",
     "output_type": "stream",
     "text": [
      "{2, 3, 66, 55, 11, 77}\n"
     ]
    }
   ],
   "source": [
    "whpints={2,3,11,55,66,77}\n",
    "print(whpints)"
   ]
  },
  {
   "cell_type": "code",
   "execution_count": 9,
   "id": "2c1ce630",
   "metadata": {},
   "outputs": [
    {
     "name": "stdout",
     "output_type": "stream",
     "text": [
      "{1, 2, 3, 4, 5, 66, 8, 11, 77, 55}\n"
     ]
    }
   ],
   "source": [
    "print(pints|whpints)"
   ]
  },
  {
   "cell_type": "code",
   "execution_count": 10,
   "id": "0830d6d7",
   "metadata": {},
   "outputs": [
    {
     "name": "stdout",
     "output_type": "stream",
     "text": [
      "{8, 1, 4, 5}\n"
     ]
    }
   ],
   "source": [
    "print(pints-whpints)"
   ]
  },
  {
   "cell_type": "code",
   "execution_count": 11,
   "id": "defd5eb2",
   "metadata": {},
   "outputs": [
    {
     "name": "stdout",
     "output_type": "stream",
     "text": [
      "{1, 66, 4, 5, 8, 77, 55}\n"
     ]
    }
   ],
   "source": [
    "print(pints^whpints)"
   ]
  },
  {
   "cell_type": "code",
   "execution_count": 2,
   "id": "a61c0e58",
   "metadata": {},
   "outputs": [],
   "source": [
    "#dictionaries\n",
    "dict_cream={'name':'Alex','weekly intake':5,'ice cream':['MCC','choclate']}"
   ]
  },
  {
   "cell_type": "code",
   "execution_count": 3,
   "id": "3fb82094",
   "metadata": {},
   "outputs": [
    {
     "data": {
      "text/plain": [
       "dict"
      ]
     },
     "execution_count": 3,
     "metadata": {},
     "output_type": "execute_result"
    }
   ],
   "source": [
    "type(dict_cream)"
   ]
  },
  {
   "cell_type": "code",
   "execution_count": 4,
   "id": "c5e9734e",
   "metadata": {},
   "outputs": [
    {
     "name": "stdout",
     "output_type": "stream",
     "text": [
      "{'name': 'Alex', 'weekly intake': 5, 'ice cream': ['MCC', 'choclate']}\n"
     ]
    }
   ],
   "source": [
    "print(dict_cream)"
   ]
  },
  {
   "cell_type": "code",
   "execution_count": 5,
   "id": "9c273910",
   "metadata": {},
   "outputs": [
    {
     "data": {
      "text/plain": [
       "dict_values(['Alex', 5, ['MCC', 'choclate']])"
      ]
     },
     "execution_count": 5,
     "metadata": {},
     "output_type": "execute_result"
    }
   ],
   "source": [
    "dict_cream.values()"
   ]
  },
  {
   "cell_type": "code",
   "execution_count": 6,
   "id": "bc867b61",
   "metadata": {},
   "outputs": [
    {
     "data": {
      "text/plain": [
       "dict_keys(['name', 'weekly intake', 'ice cream'])"
      ]
     },
     "execution_count": 6,
     "metadata": {},
     "output_type": "execute_result"
    }
   ],
   "source": [
    "dict_cream.keys()"
   ]
  },
  {
   "cell_type": "code",
   "execution_count": 8,
   "id": "1c93cd0a",
   "metadata": {},
   "outputs": [
    {
     "data": {
      "text/plain": [
       "dict_items([('name', 'Alex'), ('weekly intake', 5), ('ice cream', ['MCC', 'choclate'])])"
      ]
     },
     "execution_count": 8,
     "metadata": {},
     "output_type": "execute_result"
    }
   ],
   "source": [
    "dict_cream.items()"
   ]
  },
  {
   "cell_type": "code",
   "execution_count": 10,
   "id": "e725c17b",
   "metadata": {},
   "outputs": [
    {
     "data": {
      "text/plain": [
       "'Alex'"
      ]
     },
     "execution_count": 10,
     "metadata": {},
     "output_type": "execute_result"
    }
   ],
   "source": [
    "dict_cream['name']"
   ]
  },
  {
   "cell_type": "code",
   "execution_count": 11,
   "id": "2fc03b6a",
   "metadata": {},
   "outputs": [
    {
     "name": "stdout",
     "output_type": "stream",
     "text": [
      "{'name': 'chirstine', 'weekly intake': 5, 'ice cream': ['MCC', 'choclate']}\n"
     ]
    }
   ],
   "source": [
    "dict_cream['name']='chirstine'\n",
    "print(dict_cream)"
   ]
  },
  {
   "cell_type": "code",
   "execution_count": 15,
   "id": "d230d673",
   "metadata": {},
   "outputs": [
    {
     "name": "stdout",
     "output_type": "stream",
     "text": [
      "{'name': 'chirstine', 'weekly intake': 5, 'ice cream': ['MCC', 'choclate'], 'weight': 5}\n"
     ]
    }
   ],
   "source": [
    "dict_cream.update({'name': 'chirstine', 'weekly intake': 5, 'weight': 5})\n",
    "print(dict_cream)"
   ]
  },
  {
   "cell_type": "code",
   "execution_count": 16,
   "id": "8cb07856",
   "metadata": {},
   "outputs": [
    {
     "name": "stdout",
     "output_type": "stream",
     "text": [
      "{'name': 'chirstine', 'weekly intake': 5, 'ice cream': ['MCC', 'choclate']}\n"
     ]
    }
   ],
   "source": [
    "del dict_cream['weight']\n",
    "print(dict_cream)"
   ]
  },
  {
   "cell_type": "code",
   "execution_count": null,
   "id": "59a856ba",
   "metadata": {},
   "outputs": [],
   "source": []
  }
 ],
 "metadata": {
  "kernelspec": {
   "display_name": "Python 3 (ipykernel)",
   "language": "python",
   "name": "python3"
  },
  "language_info": {
   "codemirror_mode": {
    "name": "ipython",
    "version": 3
   },
   "file_extension": ".py",
   "mimetype": "text/x-python",
   "name": "python",
   "nbconvert_exporter": "python",
   "pygments_lexer": "ipython3",
   "version": "3.11.5"
  }
 },
 "nbformat": 4,
 "nbformat_minor": 5
}
