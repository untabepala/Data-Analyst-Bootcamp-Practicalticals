{
 "cells": [
  {
   "cell_type": "code",
   "execution_count": 14,
   "id": "5d38dd85",
   "metadata": {},
   "outputs": [
    {
     "name": "stdout",
     "output_type": "stream",
     "text": [
      "Enter your Name: Nayani\n",
      "Enter your weight in pounds: 140\n",
      "Enter your height in pounds: 80\n",
      "15.378125\n",
      "Nayani Underweight\n"
     ]
    }
   ],
   "source": [
    "name=input(\"Enter your Name: \")\n",
    "weight=int(input(\"Enter your weight in pounds: \"))\n",
    "\n",
    "height=int(input(\"Enter your height in pounds: \"))\n",
    "\n",
    "BMI=(weight * 703)/(height * height)\n",
    "print(BMI)\n",
    "if BMI>0:\n",
    "    if(BMI<18.5):\n",
    "        print(name+\" Underweight\")\n",
    "    elif(BMI<=24.9):\n",
    "        print(\"Normal weight\")\n",
    "    elif(BMI<=29.9):\n",
    "        print(\"Overweight\")\n",
    "    else:\n",
    "        print(\"Enter valied input\")\n",
    "        \n"
   ]
  },
  {
   "cell_type": "code",
   "execution_count": null,
   "id": "75b50642",
   "metadata": {},
   "outputs": [],
   "source": []
  },
  {
   "cell_type": "code",
   "execution_count": null,
   "id": "da146d04",
   "metadata": {},
   "outputs": [],
   "source": []
  },
  {
   "cell_type": "code",
   "execution_count": null,
   "id": "74ced9ca",
   "metadata": {},
   "outputs": [],
   "source": []
  }
 ],
 "metadata": {
  "kernelspec": {
   "display_name": "Python 3 (ipykernel)",
   "language": "python",
   "name": "python3"
  },
  "language_info": {
   "codemirror_mode": {
    "name": "ipython",
    "version": 3
   },
   "file_extension": ".py",
   "mimetype": "text/x-python",
   "name": "python",
   "nbconvert_exporter": "python",
   "pygments_lexer": "ipython3",
   "version": "3.11.5"
  }
 },
 "nbformat": 4,
 "nbformat_minor": 5
}
