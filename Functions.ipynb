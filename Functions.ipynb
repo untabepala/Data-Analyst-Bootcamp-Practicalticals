{
 "cells": [
  {
   "cell_type": "code",
   "execution_count": 1,
   "id": "1f51f03f",
   "metadata": {},
   "outputs": [
    {
     "name": "stdout",
     "output_type": "stream",
     "text": [
      "My first function\n"
     ]
    }
   ],
   "source": [
    "def function():\n",
    "    print(\"My first function\")\n",
    "    \n",
    "function()"
   ]
  },
  {
   "cell_type": "code",
   "execution_count": 4,
   "id": "c687bf77",
   "metadata": {},
   "outputs": [
    {
     "name": "stdout",
     "output_type": "stream",
     "text": [
      "we did it.\n"
     ]
    }
   ],
   "source": [
    "def first_func():\n",
    "    print('we did it.')\n",
    "first_func()"
   ]
  },
  {
   "cell_type": "code",
   "execution_count": 5,
   "id": "945fc024",
   "metadata": {},
   "outputs": [],
   "source": [
    "def num_squared(number):\n",
    "    print(number**2)"
   ]
  },
  {
   "cell_type": "code",
   "execution_count": 6,
   "id": "e491a252",
   "metadata": {},
   "outputs": [
    {
     "name": "stdout",
     "output_type": "stream",
     "text": [
      "25\n"
     ]
    }
   ],
   "source": [
    "num_squared(5)"
   ]
  },
  {
   "cell_type": "code",
   "execution_count": 7,
   "id": "4071e43e",
   "metadata": {},
   "outputs": [],
   "source": [
    "def num_squared(number,pow):\n",
    "    print(number**pow)"
   ]
  },
  {
   "cell_type": "code",
   "execution_count": 8,
   "id": "f0bd5a37",
   "metadata": {},
   "outputs": [
    {
     "name": "stdout",
     "output_type": "stream",
     "text": [
      "9\n"
     ]
    }
   ],
   "source": [
    "num_squared(3,2)"
   ]
  },
  {
   "cell_type": "code",
   "execution_count": 16,
   "id": "48af145c",
   "metadata": {},
   "outputs": [],
   "source": [
    "def num_args(*num):\n",
    "    print(num[0]*num[1])"
   ]
  },
  {
   "cell_type": "code",
   "execution_count": 10,
   "id": "f4b6fe38",
   "metadata": {
    "scrolled": true
   },
   "outputs": [
    {
     "name": "stdout",
     "output_type": "stream",
     "text": [
      "30\n"
     ]
    }
   ],
   "source": [
    "num_args(5,6,1,2,3)"
   ]
  },
  {
   "cell_type": "code",
   "execution_count": 15,
   "id": "d9422276",
   "metadata": {},
   "outputs": [],
   "source": [
    "\n",
    "args_tuple=(5,6,1,2,8)\n",
    "\n",
    "def num_args(*num):\n",
    "    print(num[0]*num[1])"
   ]
  },
  {
   "cell_type": "code",
   "execution_count": 14,
   "id": "da93645a",
   "metadata": {},
   "outputs": [
    {
     "name": "stdout",
     "output_type": "stream",
     "text": [
      "30\n"
     ]
    }
   ],
   "source": [
    "num_args(*args_tuple)"
   ]
  },
  {
   "cell_type": "code",
   "execution_count": 1,
   "id": "90e4683f",
   "metadata": {},
   "outputs": [],
   "source": [
    "def num_squaredCus(number,pow):\n",
    "    print(number**pow)"
   ]
  },
  {
   "cell_type": "code",
   "execution_count": 3,
   "id": "13e61937",
   "metadata": {},
   "outputs": [
    {
     "name": "stdout",
     "output_type": "stream",
     "text": [
      "243\n"
     ]
    }
   ],
   "source": [
    "num_squaredCus(pow=5,number=3)"
   ]
  },
  {
   "cell_type": "code",
   "execution_count": 10,
   "id": "d7a5beac",
   "metadata": {},
   "outputs": [],
   "source": [
    "def num_kwarg(**num):\n",
    "    print('my number is: '+num['integer']+' & My other number: '+num['integer2'])"
   ]
  },
  {
   "cell_type": "code",
   "execution_count": 11,
   "id": "4efee609",
   "metadata": {},
   "outputs": [
    {
     "name": "stdout",
     "output_type": "stream",
     "text": [
      "my number is: 2309 & My other number: 345\n"
     ]
    }
   ],
   "source": [
    "num_kwarg(integer='2309',integer2='345')"
   ]
  },
  {
   "cell_type": "code",
   "execution_count": null,
   "id": "c29fc214",
   "metadata": {},
   "outputs": [],
   "source": []
  },
  {
   "cell_type": "code",
   "execution_count": null,
   "id": "29d84187",
   "metadata": {},
   "outputs": [],
   "source": []
  }
 ],
 "metadata": {
  "kernelspec": {
   "display_name": "Python 3 (ipykernel)",
   "language": "python",
   "name": "python3"
  },
  "language_info": {
   "codemirror_mode": {
    "name": "ipython",
    "version": 3
   },
   "file_extension": ".py",
   "mimetype": "text/x-python",
   "name": "python",
   "nbconvert_exporter": "python",
   "pygments_lexer": "ipython3",
   "version": "3.11.5"
  }
 },
 "nbformat": 4,
 "nbformat_minor": 5
}
